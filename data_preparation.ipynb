{
 "cells": [
  {
   "cell_type": "markdown",
   "id": "statewide-blood",
   "metadata": {},
   "source": [
    "### Data preparation of DICOM images "
   ]
  },
  {
   "cell_type": "code",
   "execution_count": 1,
   "id": "sufficient-extension",
   "metadata": {},
   "outputs": [],
   "source": [
    "# import libraries\n",
    "import pydicom\n",
    "import pydicom.data\n",
    "\n",
    "import pandas as pd\n",
    "import matplotlib.pyplot as plt\n",
    "import numpy as np\n",
    "from sklearn.model_selection import train_test_split\n",
    "from skimage.transform import rescale\n",
    "\n",
    "from pickle import dump\n",
    "import os, re\n",
    "import pprint"
   ]
  },
  {
   "cell_type": "markdown",
   "id": "homeless-patch",
   "metadata": {},
   "source": [
    "#### get file paths in subdirectories: "
   ]
  },
  {
   "cell_type": "code",
   "execution_count": 2,
   "id": "hairy-journal",
   "metadata": {},
   "outputs": [],
   "source": [
    "def get_path_mask(path, mask_dir):\n",
    "    \"\"\"writes filepaths of livermasks in subdirectory of path to list, adds suffix per patient. Returns list.\"\"\"\n",
    "    paths_mask = []\n",
    "    suffix = 1\n",
    "    for fn in os.listdir(path):\n",
    "        if not fn.endswith(('.DS_Store', '.zip')):           \n",
    "            for fn2 in os.listdir(f\"{path}{fn}\"):  \n",
    "                if fn2 == 'MASKS_DICOM':\n",
    "                    for fn3 in os.listdir(f\"{path}{fn}/{fn2}\"):\n",
    "                        \n",
    "                        if fn3 == mask_dir:\n",
    "                            for fn4 in os.listdir(f\"{path}{fn}/{fn2}/{fn3}\"):\n",
    "                                mask_path = os.path.join( f'{path}{fn}/{fn2}/{fn3}', fn4 + '_' + str(suffix))                                \n",
    "                                paths_mask.append(mask_path)\n",
    "                    suffix = suffix + 1 \n",
    "    return paths_mask"
   ]
  },
  {
   "cell_type": "code",
   "execution_count": 3,
   "id": "powerful-blank",
   "metadata": {},
   "outputs": [],
   "source": [
    "path = \"/Users/krystanafoh/datasets/3Dircadb1/\"\n",
    "mask_dir = 'liver'\n",
    "path_list_mask = get_path_mask(path, mask_dir)"
   ]
  },
  {
   "cell_type": "code",
   "execution_count": 4,
   "id": "hindu-auction",
   "metadata": {},
   "outputs": [],
   "source": [
    "def get_path_orig(path):\n",
    "    \"\"\"writes filepaths of original patient scans in subdirectory of path to list, adds suffix per patient. Returns list.\"\"\"\n",
    "    paths_orig = []\n",
    "    suffix = 1\n",
    "    for fn in os.listdir(path):\n",
    "        if not fn.endswith(('.DS_Store', '.zip')):            \n",
    "            for fn2 in os.listdir(f\"{path}{fn}\"):  \n",
    "                if fn2 == 'PATIENT_DICOM':\n",
    "                    for fn3 in os.listdir(f\"{path}{fn}/{fn2}\"):\n",
    "                                orig_path = os.path.join( f'{path}{fn}/{fn2}/', fn3 + '_' + str(suffix))\n",
    "                                paths_orig.append(orig_path)                               \n",
    "            suffix = suffix + 1 \n",
    "    return paths_orig"
   ]
  },
  {
   "cell_type": "code",
   "execution_count": 5,
   "id": "greater-think",
   "metadata": {},
   "outputs": [],
   "source": [
    "path = \"/Users/krystanafoh/datasets/3Dircadb1/\"\n",
    "path_list_orig = get_path_orig(path)"
   ]
  },
  {
   "cell_type": "markdown",
   "id": "otherwise-porcelain",
   "metadata": {},
   "source": [
    "#### create dataframe of filepaths"
   ]
  },
  {
   "cell_type": "code",
   "execution_count": 6,
   "id": "moderate-government",
   "metadata": {},
   "outputs": [],
   "source": [
    "def get_df(paths_originals:list, paths_masks:list):\n",
    "    \"\"\"creates df, lists of paths of originals and masks to columns 'original' and 'mask'\"\"\"\n",
    "    df = pd.DataFrame(list(zip(paths_originals, paths_masks)), \n",
    "               columns =['original', 'mask']) \n",
    "    return df"
   ]
  },
  {
   "cell_type": "code",
   "execution_count": 7,
   "id": "descending-fraud",
   "metadata": {},
   "outputs": [],
   "source": [
    "df = get_df(path_list_orig, path_list_mask)"
   ]
  },
  {
   "cell_type": "code",
   "execution_count": 8,
   "id": "stable-championship",
   "metadata": {},
   "outputs": [],
   "source": [
    "# split of 1 patient (patient no.2 ) of original data, data now 19 of 20 patients\n",
    "df_new = df.iloc[172:]"
   ]
  },
  {
   "cell_type": "code",
   "execution_count": 9,
   "id": "retained-mandate",
   "metadata": {},
   "outputs": [],
   "source": [
    "df_patient2 = df.iloc[:172]"
   ]
  },
  {
   "cell_type": "code",
   "execution_count": null,
   "id": "recognized-imaging",
   "metadata": {},
   "outputs": [],
   "source": [
    "# save dataframe of patient 2: \n",
    "df_patient2.to_pickle('./patient2.hdf')"
   ]
  },
  {
   "cell_type": "markdown",
   "id": "greek-buying",
   "metadata": {},
   "source": [
    "#### train test split:  "
   ]
  },
  {
   "cell_type": "code",
   "execution_count": 10,
   "id": "swiss-location",
   "metadata": {},
   "outputs": [],
   "source": [
    "# train-test-split on data of 19 patients (small test split, as patient#2 was cut off from original data as test data)\n",
    "X = df_new['original']\n",
    "y = df_new['mask']\n",
    "X_train, X_test, y_train, y_test = train_test_split(X, y, train_size=0.95, random_state=42)"
   ]
  },
  {
   "cell_type": "code",
   "execution_count": 11,
   "id": "laden-finger",
   "metadata": {
    "scrolled": true
   },
   "outputs": [
    {
     "data": {
      "text/plain": [
       "((2518,), (2518,), (133,), (133,))"
      ]
     },
     "execution_count": 11,
     "metadata": {},
     "output_type": "execute_result"
    }
   ],
   "source": [
    "X_train.shape, y_train.shape, X_test.shape, y_test.shape"
   ]
  },
  {
   "cell_type": "markdown",
   "id": "exposed-physics",
   "metadata": {},
   "source": [
    "#### preprocess data (19 patients) "
   ]
  },
  {
   "cell_type": "markdown",
   "id": "faced-intake",
   "metadata": {},
   "source": [
    "#### create arrays out of dicoms:"
   ]
  },
  {
   "cell_type": "code",
   "execution_count": 12,
   "id": "streaming-reference",
   "metadata": {},
   "outputs": [],
   "source": [
    "def to_arrays_list(split_df):\n",
    "    \"\"\"reads in files from paths in df, converts them to pixel_arrays, returns list of pixel arrays\"\"\"\n",
    "    im_list = []\n",
    "    \n",
    "    for i in range(len(split_df)):\n",
    "    \n",
    "        ds = pydicom.read_file(split_df.iloc[i].rsplit('_', 1)[0])\n",
    "        data = ds.pixel_array\n",
    "        \n",
    "        im_list.append(data)\n",
    "        \n",
    "    return im_list"
   ]
  },
  {
   "cell_type": "markdown",
   "id": "nonprofit-portable",
   "metadata": {},
   "source": [
    "\n",
    "train data: "
   ]
  },
  {
   "cell_type": "code",
   "execution_count": 13,
   "id": "noticed-initial",
   "metadata": {},
   "outputs": [],
   "source": [
    "X_train_arrays = to_arrays_list(X_train)"
   ]
  },
  {
   "cell_type": "code",
   "execution_count": 14,
   "id": "substantial-federation",
   "metadata": {},
   "outputs": [],
   "source": [
    "y_train_arrays = to_arrays_list(y_train)"
   ]
  },
  {
   "cell_type": "markdown",
   "id": "worst-wisconsin",
   "metadata": {},
   "source": [
    "test data: "
   ]
  },
  {
   "cell_type": "code",
   "execution_count": 15,
   "id": "infinite-submission",
   "metadata": {},
   "outputs": [],
   "source": [
    "X_test_arrays = to_arrays_list(X_test)"
   ]
  },
  {
   "cell_type": "code",
   "execution_count": 16,
   "id": "annual-syntax",
   "metadata": {},
   "outputs": [],
   "source": [
    "y_test_arrays = to_arrays_list(y_test)"
   ]
  },
  {
   "cell_type": "markdown",
   "id": "similar-browser",
   "metadata": {},
   "source": [
    "####  downsampling images to 128*128 pixels for reducing training time: "
   ]
  },
  {
   "cell_type": "code",
   "execution_count": 17,
   "id": "hungry-championship",
   "metadata": {},
   "outputs": [],
   "source": [
    "# downsample all images in list: \n",
    "def downsampling(list):\n",
    "    \n",
    "    ds_img_list = []\n",
    "    \n",
    "    for array in list: \n",
    "        \n",
    "        array = array[::4, ::4]\n",
    "        ds_img_list.append(array)\n",
    "        \n",
    "    return ds_img_list"
   ]
  },
  {
   "cell_type": "markdown",
   "id": "ecological-payment",
   "metadata": {},
   "source": [
    "train data: "
   ]
  },
  {
   "cell_type": "code",
   "execution_count": 18,
   "id": "amazing-bronze",
   "metadata": {},
   "outputs": [],
   "source": [
    "X_train_arrays = downsampling(X_train_arrays)"
   ]
  },
  {
   "cell_type": "code",
   "execution_count": 19,
   "id": "german-audit",
   "metadata": {},
   "outputs": [],
   "source": [
    "y_train_arrays = downsampling(y_train_arrays)"
   ]
  },
  {
   "cell_type": "markdown",
   "id": "amended-wallace",
   "metadata": {},
   "source": [
    "test data: "
   ]
  },
  {
   "cell_type": "code",
   "execution_count": 20,
   "id": "seven-technical",
   "metadata": {},
   "outputs": [],
   "source": [
    "X_test_arrays = downsampling(X_test_arrays)"
   ]
  },
  {
   "cell_type": "code",
   "execution_count": 21,
   "id": "composed-drain",
   "metadata": {},
   "outputs": [],
   "source": [
    "y_test_arrays = downsampling(y_test_arrays)"
   ]
  },
  {
   "cell_type": "markdown",
   "id": "revolutionary-render",
   "metadata": {},
   "source": [
    "#### create array of arrays:"
   ]
  },
  {
   "cell_type": "code",
   "execution_count": 22,
   "id": "breathing-vertical",
   "metadata": {},
   "outputs": [],
   "source": [
    "def to_array_array(list_of_arrays:list):\n",
    "    array = np.asanyarray(list_of_arrays)\n",
    "    return array"
   ]
  },
  {
   "cell_type": "markdown",
   "id": "covered-traveler",
   "metadata": {},
   "source": [
    "train data: "
   ]
  },
  {
   "cell_type": "code",
   "execution_count": 23,
   "id": "frozen-million",
   "metadata": {},
   "outputs": [],
   "source": [
    "orig_train_array = to_array_array(X_train_arrays)"
   ]
  },
  {
   "cell_type": "code",
   "execution_count": 24,
   "id": "broadband-calcium",
   "metadata": {},
   "outputs": [],
   "source": [
    "masks_train_array = to_array_array(y_train_arrays)"
   ]
  },
  {
   "cell_type": "markdown",
   "id": "affiliated-amino",
   "metadata": {},
   "source": [
    "test data: "
   ]
  },
  {
   "cell_type": "code",
   "execution_count": 25,
   "id": "taken-flavor",
   "metadata": {},
   "outputs": [],
   "source": [
    "orig_test_array = to_array_array(X_test_arrays)"
   ]
  },
  {
   "cell_type": "code",
   "execution_count": 26,
   "id": "strong-individual",
   "metadata": {},
   "outputs": [],
   "source": [
    "masks_test_array = to_array_array(y_test_arrays)"
   ]
  },
  {
   "cell_type": "markdown",
   "id": "modern-growth",
   "metadata": {},
   "source": [
    "#### normalize Hounsfield units in scans and convert to float 32:"
   ]
  },
  {
   "cell_type": "code",
   "execution_count": 27,
   "id": "bound-specification",
   "metadata": {},
   "outputs": [],
   "source": [
    "def normalize(array):\n",
    "    \"\"\"Normalize the array between -1000 and 400 (Hounsfield) and return as type float32\"\"\"\n",
    "    min = -1000\n",
    "    max = 400\n",
    "    array[array < min] = min\n",
    "    array[array > max] = max\n",
    "    array = (array - min) / (max - min)  # hö\n",
    "    array = array.astype(\"float32\")\n",
    "    return array                           # keras documentation"
   ]
  },
  {
   "cell_type": "code",
   "execution_count": 28,
   "id": "laden-gibson",
   "metadata": {},
   "outputs": [],
   "source": [
    "# train data\n",
    "orig_train_array = normalize(orig_train_array)"
   ]
  },
  {
   "cell_type": "code",
   "execution_count": 29,
   "id": "vulnerable-airfare",
   "metadata": {},
   "outputs": [],
   "source": [
    "#test data\n",
    "orig_test_array = normalize(orig_test_array)"
   ]
  },
  {
   "cell_type": "markdown",
   "id": "advanced-recorder",
   "metadata": {},
   "source": [
    "#### binarize masks and convert to float 32"
   ]
  },
  {
   "cell_type": "code",
   "execution_count": 30,
   "id": "african-hydrogen",
   "metadata": {},
   "outputs": [],
   "source": [
    "def binarize(array):\n",
    "    \"\"\"Binarize masks to 0 and 1\"\"\"\n",
    "    array[array > 0] = 1 \n",
    "    array = array.astype('float32')\n",
    "    return array"
   ]
  },
  {
   "cell_type": "code",
   "execution_count": 31,
   "id": "mounted-career",
   "metadata": {},
   "outputs": [],
   "source": [
    "# train data\n",
    "masks_train_array = binarize(masks_train_array)"
   ]
  },
  {
   "cell_type": "code",
   "execution_count": 32,
   "id": "unusual-explorer",
   "metadata": {},
   "outputs": [],
   "source": [
    "# test data\n",
    "masks_test_array = binarize(masks_test_array)"
   ]
  },
  {
   "cell_type": "markdown",
   "id": "optional-reverse",
   "metadata": {},
   "source": [
    "#### plot example image   and mask of training data: "
   ]
  },
  {
   "cell_type": "code",
   "execution_count": 33,
   "id": "pacific-spank",
   "metadata": {},
   "outputs": [
    {
     "data": {
      "text/plain": [
       "Text(0.5, 1.0, 'mask/ground_truth example')"
      ]
     },
     "execution_count": 33,
     "metadata": {},
     "output_type": "execute_result"
    },
    {
     "data": {
      "image/png": "[encoded data removed]",
      "text/plain": [
       "<Figure size 432x288 with 1 Axes>"
      ]
     },
     "metadata": {
      "needs_background": "light"
     },
     "output_type": "display_data"
    }
   ],
   "source": [
    "plt.imshow(masks_train_array[100], cmap=plt.cm.bone)  \n",
    "plt.title('mask/ground_truth example')"
   ]
  },
  {
   "cell_type": "code",
   "execution_count": 34,
   "id": "recorded-transcript",
   "metadata": {},
   "outputs": [
    {
     "data": {
      "text/plain": [
       "Text(0.5, 1.0, 'original scan example')"
      ]
     },
     "execution_count": 34,
     "metadata": {},
     "output_type": "execute_result"
    },
    {
     "data": {
      "image/png": "[encoded data removed]",
      "text/plain": [
       "<Figure size 432x288 with 1 Axes>"
      ]
     },
     "metadata": {
      "needs_background": "light"
     },
     "output_type": "display_data"
    }
   ],
   "source": [
    "plt.imshow(orig_train_array[100], cmap=plt.cm.bone)  \n",
    "plt.title('original scan example')"
   ]
  },
  {
   "cell_type": "markdown",
   "id": "radical-tonight",
   "metadata": {},
   "source": [
    "#### add channel dimension for model input: "
   ]
  },
  {
   "cell_type": "markdown",
   "id": "familiar-madison",
   "metadata": {},
   "source": [
    "train data"
   ]
  },
  {
   "cell_type": "code",
   "execution_count": 35,
   "id": "lesbian-battlefield",
   "metadata": {},
   "outputs": [
    {
     "data": {
      "text/plain": [
       "((2518, 128, 128, 1), dtype('float32'))"
      ]
     },
     "execution_count": 35,
     "metadata": {},
     "output_type": "execute_result"
    }
   ],
   "source": [
    "orig_train_resh = orig_train_array.reshape(2518, 128, 128, -1)\n",
    "orig_train_resh.shape, orig_train_resh.dtype"
   ]
  },
  {
   "cell_type": "code",
   "execution_count": 36,
   "id": "transparent-orientation",
   "metadata": {},
   "outputs": [
    {
     "data": {
      "text/plain": [
       "((2518, 128, 128, 1), dtype('float32'))"
      ]
     },
     "execution_count": 36,
     "metadata": {},
     "output_type": "execute_result"
    }
   ],
   "source": [
    "masks_train_resh = masks_train_array.reshape(2518, 128, 128, -1)\n",
    "masks_train_resh.shape, masks_train_resh.dtype"
   ]
  },
  {
   "cell_type": "markdown",
   "id": "saving-hydrogen",
   "metadata": {},
   "source": [
    "test data"
   ]
  },
  {
   "cell_type": "code",
   "execution_count": 37,
   "id": "administrative-crowd",
   "metadata": {},
   "outputs": [
    {
     "data": {
      "text/plain": [
       "((133, 128, 128, 1), dtype('float32'))"
      ]
     },
     "execution_count": 37,
     "metadata": {},
     "output_type": "execute_result"
    }
   ],
   "source": [
    "orig_test_resh = orig_test_array.reshape(133, 128, 128, -1)\n",
    "orig_test_resh.shape, orig_test_resh.dtype"
   ]
  },
  {
   "cell_type": "code",
   "execution_count": 38,
   "id": "moral-vision",
   "metadata": {},
   "outputs": [
    {
     "data": {
      "text/plain": [
       "((133, 128, 128, 1), dtype('float32'))"
      ]
     },
     "execution_count": 38,
     "metadata": {},
     "output_type": "execute_result"
    }
   ],
   "source": [
    "masks_test_resh = masks_test_array.reshape(133, 128, 128, -1)\n",
    "masks_test_resh.shape, masks_test_resh.dtype"
   ]
  },
  {
   "cell_type": "markdown",
   "id": "active-piano",
   "metadata": {},
   "source": [
    "#### export train and test data to use on google colab"
   ]
  },
  {
   "cell_type": "markdown",
   "id": "enabling-certificate",
   "metadata": {},
   "source": [
    "train data: "
   ]
  },
  {
   "cell_type": "code",
   "execution_count": null,
   "id": "arbitrary-beverage",
   "metadata": {},
   "outputs": [],
   "source": [
    "#orig_train_resh.dump('./X_train_19_patients_128big.pkl')"
   ]
  },
  {
   "cell_type": "code",
   "execution_count": null,
   "id": "geographic-weight",
   "metadata": {},
   "outputs": [],
   "source": [
    "#masks_train_resh.dump('./y_train_19_patients_128big.pkl')"
   ]
  },
  {
   "cell_type": "markdown",
   "id": "architectural-insight",
   "metadata": {},
   "source": [
    "test data: "
   ]
  },
  {
   "cell_type": "code",
   "execution_count": null,
   "id": "residential-efficiency",
   "metadata": {},
   "outputs": [],
   "source": [
    "#orig_test_resh.dump('./X_test_19_patients_128big.pkl')"
   ]
  },
  {
   "cell_type": "code",
   "execution_count": null,
   "id": "cutting-cooperation",
   "metadata": {},
   "outputs": [],
   "source": [
    "#masks_test_resh.dump('./y_test_19_patients_128big.pkl')"
   ]
  }
 ],
 "metadata": {
  "kernelspec": {
   "display_name": "Python 3",
   "language": "python",
   "name": "python3"
  },
  "language_info": {
   "codemirror_mode": {
    "name": "ipython",
    "version": 3
   },
   "file_extension": ".py",
   "mimetype": "text/x-python",
   "name": "python",
   "nbconvert_exporter": "python",
   "pygments_lexer": "ipython3",
   "version": "3.8.0"
  }
 },
 "nbformat": 4,
 "nbformat_minor": 5
}
